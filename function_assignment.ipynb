{
  "nbformat": 4,
  "nbformat_minor": 0,
  "metadata": {
    "colab": {
      "provenance": []
    },
    "kernelspec": {
      "name": "python3",
      "display_name": "Python 3"
    },
    "language_info": {
      "name": "python"
    }
  },
  "cells": [
    {
      "cell_type": "code",
      "execution_count": 15,
      "metadata": {
        "colab": {
          "base_uri": "https://localhost:8080/"
        },
        "id": "1V1Qch2pqTVA",
        "outputId": "8ee773ba-caab-4dbd-ea34-ecd2b314595c"
      },
      "outputs": [
        {
          "output_type": "stream",
          "name": "stdout",
          "text": [
            "Hello Ankit\n",
            "ANKIT\n"
          ]
        }
      ],
      "source": [
        "''' THEORY QUESTION'''\n",
        "''' 1. What is the difference between a function and a method in Python?\n",
        "Function: A block of reusable code that performs a specific task, and is defined using def or lambda. It can be independent or outside a class.\n",
        "\n",
        "Method: A function associated with an object or class. It is called on an object (like a string, list, etc.).'''\n",
        "# Function\n",
        "def greet(name):\n",
        "    return \"Hello \" + name\n",
        "\n",
        "print(greet(\"Ankit\"))  # Output: Hello Ankit\n",
        "\n",
        "# Method (str.upper() is a method)\n",
        "name = \"ankit\"\n",
        "print(name.upper())    # Output: ANKIT\n",
        "\n",
        "\n"
      ]
    },
    {
      "cell_type": "code",
      "source": [
        "'''2. Explain the concept of function arguments and parameters in Python.\n",
        "Parameter: The variable listed in the function definition.\n",
        "\n",
        "Argument: The value passed to the function when calling it.'''"
      ],
      "metadata": {
        "colab": {
          "base_uri": "https://localhost:8080/",
          "height": 53
        },
        "id": "VsOy3cH-0dfO",
        "outputId": "05722486-95be-404f-d565-0731c96a4998"
      },
      "execution_count": 16,
      "outputs": [
        {
          "output_type": "execute_result",
          "data": {
            "text/plain": [
              "'2. Explain the concept of function arguments and parameters in Python.\\nParameter: The variable listed in the function definition.\\n\\nArgument: The value passed to the function when calling it.'"
            ],
            "application/vnd.google.colaboratory.intrinsic+json": {
              "type": "string"
            }
          },
          "metadata": {},
          "execution_count": 16
        }
      ]
    },
    {
      "cell_type": "code",
      "source": [
        "'''3. What are the different ways to define and call a function in Python?\n",
        "Defining:\n",
        "\n",
        "Using def\n",
        "\n",
        "Using lambda (anonymous function)\n",
        "\n",
        "Calling:\n",
        "\n",
        "Normal call: function_name()\n",
        "\n",
        "With arguments: function_name(arg1, arg2)\n",
        "\n",
        "Keyword arguments, default values, variable-length arguments'''"
      ],
      "metadata": {
        "colab": {
          "base_uri": "https://localhost:8080/",
          "height": 53
        },
        "id": "ugiBhFtf0yvv",
        "outputId": "270d5a04-be69-4fbf-da40-2f7e054bdf46"
      },
      "execution_count": 17,
      "outputs": [
        {
          "output_type": "execute_result",
          "data": {
            "text/plain": [
              "'3. What are the different ways to define and call a function in Python?\\nDefining:\\n\\nUsing def\\n\\nUsing lambda (anonymous function)\\n\\nCalling:\\n\\nNormal call: function_name()\\n\\nWith arguments: function_name(arg1, arg2)\\n\\nKeyword arguments, default values, variable-length arguments'"
            ],
            "application/vnd.google.colaboratory.intrinsic+json": {
              "type": "string"
            }
          },
          "metadata": {},
          "execution_count": 17
        }
      ]
    },
    {
      "cell_type": "code",
      "source": [
        "'''4. What is the purpose of the return statement in a Python function?\n",
        "It is used to send back a value from a function to the caller.\n",
        "\n",
        "Ends the function execution.'''\n",
        "def square(x):\n",
        "    return x * x\n",
        "\n",
        "result = square(5)\n",
        "print(result)\n",
        "\n"
      ],
      "metadata": {
        "colab": {
          "base_uri": "https://localhost:8080/"
        },
        "id": "cQq0XYit01Ar",
        "outputId": "aa0080bf-ffd2-46ed-87d0-c5fe53b139ff"
      },
      "execution_count": 18,
      "outputs": [
        {
          "output_type": "stream",
          "name": "stdout",
          "text": [
            "25\n"
          ]
        }
      ]
    },
    {
      "cell_type": "code",
      "source": [
        "'''5. What are iterators in Python and how do they differ from iterables?\n",
        "Iterable: An object like a list or string that can be looped through.\n",
        "\n",
        "Iterator: An object with __next__() method, which gives next item one at a time.\n",
        "\n",
        "Difference:\n",
        "\n",
        "Iterable can be converted into an iterator using iter().\n",
        "\n",
        "Iterator keeps state; iterable does not.'''"
      ],
      "metadata": {
        "colab": {
          "base_uri": "https://localhost:8080/",
          "height": 53
        },
        "id": "zCzL4XEX1ALf",
        "outputId": "fec7d55a-6e22-4426-e625-ff6758297447"
      },
      "execution_count": 19,
      "outputs": [
        {
          "output_type": "execute_result",
          "data": {
            "text/plain": [
              "'5. What are iterators in Python and how do they differ from iterables?\\nIterable: An object like a list or string that can be looped through.\\n\\nIterator: An object with __next__() method, which gives next item one at a time.\\n\\nDifference:\\n\\nIterable can be converted into an iterator using iter().\\n\\nIterator keeps state; iterable does not.'"
            ],
            "application/vnd.google.colaboratory.intrinsic+json": {
              "type": "string"
            }
          },
          "metadata": {},
          "execution_count": 19
        }
      ]
    },
    {
      "cell_type": "code",
      "source": [
        "'''6. Explain the concept of generators in Python and how they are defined.\n",
        "A generator is a special type of iterator created using yield.\n",
        "\n",
        "It returns values one at a time using yield instead of return, saving memory.'''\n",
        "def countdown(n):\n",
        "    while n > 0:\n",
        "        yield n\n",
        "        n -= 1\n",
        "\n",
        "for val in countdown(3):\n",
        "    print(val)\n"
      ],
      "metadata": {
        "colab": {
          "base_uri": "https://localhost:8080/"
        },
        "id": "bHb_n1Iv290A",
        "outputId": "39512840-e164-409d-f636-fbd5cfbc1016"
      },
      "execution_count": 20,
      "outputs": [
        {
          "output_type": "stream",
          "name": "stdout",
          "text": [
            "3\n",
            "2\n",
            "1\n"
          ]
        }
      ]
    },
    {
      "cell_type": "code",
      "source": [
        "'''7. What are the advantages of using generators over regular functions?\n",
        "Memory efficient: Doesn’t store all values in memory.\n",
        "\n",
        "Lazy evaluation: Produces items only when needed.\n",
        "\n",
        "Faster for large datasets.'''\n"
      ],
      "metadata": {
        "colab": {
          "base_uri": "https://localhost:8080/",
          "height": 53
        },
        "id": "OhTqU5q43IZN",
        "outputId": "590f3f0a-4c1a-48c7-cf33-84fe96b17e1f"
      },
      "execution_count": 21,
      "outputs": [
        {
          "output_type": "execute_result",
          "data": {
            "text/plain": [
              "'7. What are the advantages of using generators over regular functions?\\nMemory efficient: Doesn’t store all values in memory.\\n\\nLazy evaluation: Produces items only when needed.\\n\\nFaster for large datasets.'"
            ],
            "application/vnd.google.colaboratory.intrinsic+json": {
              "type": "string"
            }
          },
          "metadata": {},
          "execution_count": 21
        }
      ]
    },
    {
      "cell_type": "code",
      "source": [
        "'''8. What is a lambda function in Python and when is it typically used?\n",
        "A lambda is an anonymous (unnamed) function defined with lambda keyword.\n",
        "\n",
        "Used for short, simple functions, especially with map(), filter(), sort().'''"
      ],
      "metadata": {
        "colab": {
          "base_uri": "https://localhost:8080/",
          "height": 53
        },
        "id": "co2khZyN3Scd",
        "outputId": "f6fcb107-91ec-44e1-8397-405b73a8357f"
      },
      "execution_count": 22,
      "outputs": [
        {
          "output_type": "execute_result",
          "data": {
            "text/plain": [
              "'8. What is a lambda function in Python and when is it typically used?\\nA lambda is an anonymous (unnamed) function defined with lambda keyword.\\n\\nUsed for short, simple functions, especially with map(), filter(), sort().'"
            ],
            "application/vnd.google.colaboratory.intrinsic+json": {
              "type": "string"
            }
          },
          "metadata": {},
          "execution_count": 22
        }
      ]
    },
    {
      "cell_type": "code",
      "source": [
        "'''9. Explain the purpose and usage of the map() function in Python.\n",
        "map() applies a function to every item in an iterable and returns a map object (iterator).\n",
        "\n",
        "Useful for transforming data.'''\n",
        "nums = [1, 2, 3, 4]\n",
        "squared = list(map(lambda x: x*x, nums))\n",
        "print(squared)\n",
        "\n"
      ],
      "metadata": {
        "colab": {
          "base_uri": "https://localhost:8080/"
        },
        "id": "NhKmCxXs3V39",
        "outputId": "65ab7640-2b86-433e-ce3d-97a4580d7815"
      },
      "execution_count": 23,
      "outputs": [
        {
          "output_type": "stream",
          "name": "stdout",
          "text": [
            "[1, 4, 9, 16]\n"
          ]
        }
      ]
    },
    {
      "cell_type": "code",
      "source": [
        "''' 1. map()\n",
        "Purpose: Applies a function to each item in an iterable and returns a new iterable with the transformed values.\n",
        "\n",
        "Returns: A map object (iterator)\n",
        "\n",
        "nums = [1, 2, 3, 4]\n",
        "result = list(map(lambda x: x * 2, nums))\n",
        "print(result)  # Output: [2, 4, 6, 8]\n",
        "\n",
        "2. filter()\n",
        "Purpose: Applies a function to each item and keeps only those items where the function returns True.\n",
        "\n",
        "\n",
        "nums = [1, 2, 3, 4, 5, 6]\n",
        "result = list(filter(lambda x: x % 2 == 0, nums))\n",
        "print(result)  # Output: [2, 4, 6]\n",
        "\n",
        " 3. reduce()\n",
        "Purpose: Applies a function cumulatively to the items of the iterable, reducing it to a single value.\n",
        "\n",
        "Returns: A single value\n",
        "\n",
        "Use case: Aggregation (sum, product, max, etc.)\n",
        "\n",
        "from functools import reduce\n",
        "\n",
        "nums = [1, 2, 3, 4]\n",
        "result = reduce(lambda x, y: x + y, nums)\n",
        "print(result)  # Output: 10'''"
      ],
      "metadata": {
        "colab": {
          "base_uri": "https://localhost:8080/",
          "height": 105
        },
        "id": "7hVPOLeF3anC",
        "outputId": "2df78db6-42d5-444d-88f0-31d3d01ec5ea"
      },
      "execution_count": 24,
      "outputs": [
        {
          "output_type": "execute_result",
          "data": {
            "text/plain": [
              "' 1. map()\\nPurpose: Applies a function to each item in an iterable and returns a new iterable with the transformed values.\\n\\nReturns: A map object (iterator)\\n\\nnums = [1, 2, 3, 4]\\nresult = list(map(lambda x: x * 2, nums))\\nprint(result)  # Output: [2, 4, 6, 8]\\n\\n2. filter()\\nPurpose: Applies a function to each item and keeps only those items where the function returns True.\\n\\n\\nnums = [1, 2, 3, 4, 5, 6]\\nresult = list(filter(lambda x: x % 2 == 0, nums))\\nprint(result)  # Output: [2, 4, 6]\\n\\n 3. reduce()\\nPurpose: Applies a function cumulatively to the items of the iterable, reducing it to a single value.\\n\\nReturns: A single value\\n\\nUse case: Aggregation (sum, product, max, etc.)\\n\\nfrom functools import reduce\\n\\nnums = [1, 2, 3, 4]\\nresult = reduce(lambda x, y: x + y, nums)\\nprint(result)  # Output: 10'"
            ],
            "application/vnd.google.colaboratory.intrinsic+json": {
              "type": "string"
            }
          },
          "metadata": {},
          "execution_count": 24
        }
      ]
    },
    {
      "cell_type": "code",
      "source": [],
      "metadata": {
        "id": "riBZKmed4U-B"
      },
      "execution_count": 24,
      "outputs": []
    },
    {
      "cell_type": "markdown",
      "source": [
        "![F.jpg](data:image/jpeg;base64,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)\n"
      ],
      "metadata": {
        "id": "xsJqImEA57VF"
      }
    },
    {
      "cell_type": "code",
      "source": [
        "'''PRACTICAL QUESTION'''"
      ],
      "metadata": {
        "colab": {
          "base_uri": "https://localhost:8080/",
          "height": 36
        },
        "id": "OGEepoOi6k_B",
        "outputId": "e992752d-db32-4dd2-9c95-b036ddcba475"
      },
      "execution_count": 25,
      "outputs": [
        {
          "output_type": "execute_result",
          "data": {
            "text/plain": [
              "'PRACTICAL QUESTION'"
            ],
            "application/vnd.google.colaboratory.intrinsic+json": {
              "type": "string"
            }
          },
          "metadata": {},
          "execution_count": 25
        }
      ]
    },
    {
      "cell_type": "code",
      "source": [
        "'''1. Write a Python function that takes a list of numbers as input and returns the sum of all even numbers in\n",
        "the list.'''\n",
        "def sum_of_even(numbers):\n",
        "    return sum(num for num in numbers if num % 2 == 0)\n",
        "\n",
        "# Example\n",
        "print(sum_of_even([1, 2, 3, 4, 5, 6]))"
      ],
      "metadata": {
        "colab": {
          "base_uri": "https://localhost:8080/"
        },
        "id": "jBlQ2rQm6qLx",
        "outputId": "2cb6d505-9768-49b7-8f3f-b8cd52745fba"
      },
      "execution_count": 26,
      "outputs": [
        {
          "output_type": "stream",
          "name": "stdout",
          "text": [
            "12\n"
          ]
        }
      ]
    },
    {
      "cell_type": "code",
      "source": [
        "'''2. Create a Python function that accepts a string and returns the reverse of that string.'''\n",
        "def reverse_string(s):\n",
        "    return s[::-1]\n",
        "\n",
        "# Example\n",
        "print(reverse_string(\"Python\"))\n"
      ],
      "metadata": {
        "colab": {
          "base_uri": "https://localhost:8080/"
        },
        "id": "BRdMX00S6-VL",
        "outputId": "d9faf0cc-155f-48b7-df62-de187cd2bc9a"
      },
      "execution_count": 28,
      "outputs": [
        {
          "output_type": "stream",
          "name": "stdout",
          "text": [
            "nohtyP\n"
          ]
        }
      ]
    },
    {
      "cell_type": "code",
      "source": [
        "'''3. Implement a Python function that takes a list of integers and returns a new list containing the squares of\n",
        "each number.'''\n",
        "def square_numbers(numbers):\n",
        "    return [num ** 2 for num in numbers]\n",
        "\n",
        "# Example\n",
        "print(square_numbers([1, 2, 3, 4, 5]))"
      ],
      "metadata": {
        "colab": {
          "base_uri": "https://localhost:8080/"
        },
        "id": "d0rX1A4Q7D81",
        "outputId": "6fe41398-dc7a-42cf-b20b-4e649406b306"
      },
      "execution_count": 29,
      "outputs": [
        {
          "output_type": "stream",
          "name": "stdout",
          "text": [
            "[1, 4, 9, 16, 25]\n"
          ]
        }
      ]
    },
    {
      "cell_type": "code",
      "source": [
        "'''4. Write a Python function that checks if a given number is prime or not from 1 to 200.'''\n",
        "def is_prime(n):\n",
        "    if n <= 1:\n",
        "        return False\n",
        "    for i in range(2, int(n**0.5)+1):\n",
        "        if n % i == 0:\n",
        "            return False\n",
        "    return True\n",
        "\n",
        "# Check all primes from 1 to 200\n",
        "primes = [i for i in range(1, 201) if is_prime(i)]\n",
        "print(primes)\n"
      ],
      "metadata": {
        "colab": {
          "base_uri": "https://localhost:8080/"
        },
        "id": "axpEWN6x7WPv",
        "outputId": "f0c96d6e-9950-4c13-9955-7fa0ec9841f1"
      },
      "execution_count": 30,
      "outputs": [
        {
          "output_type": "stream",
          "name": "stdout",
          "text": [
            "[2, 3, 5, 7, 11, 13, 17, 19, 23, 29, 31, 37, 41, 43, 47, 53, 59, 61, 67, 71, 73, 79, 83, 89, 97, 101, 103, 107, 109, 113, 127, 131, 137, 139, 149, 151, 157, 163, 167, 173, 179, 181, 191, 193, 197, 199]\n"
          ]
        }
      ]
    },
    {
      "cell_type": "code",
      "source": [
        "'''5. Create an iterator class in Python that generates the Fibonacci sequence up to a specified number of\n",
        "terms.'''\n",
        "class Fibonacci:\n",
        "    def __init__(self, n):\n",
        "        self.n = n\n",
        "        self.a = 0\n",
        "        self.b = 1\n",
        "        self.count = 0\n",
        "\n",
        "    def __iter__(self):\n",
        "        return self\n",
        "\n",
        "    def __next__(self):\n",
        "        if self.count >= self.n:\n",
        "            raise StopIteration\n",
        "        val = self.a\n",
        "        self.a, self.b = self.b, self.a + self.b\n",
        "        self.count += 1\n",
        "        return val\n",
        "\n",
        "# Example\n",
        "for num in Fibonacci(7):\n",
        "    print(num, end=' ')\n"
      ],
      "metadata": {
        "colab": {
          "base_uri": "https://localhost:8080/"
        },
        "id": "Qm1ZkCak7g_M",
        "outputId": "86d6615f-8036-44f7-8a2d-fed91fed29cd"
      },
      "execution_count": 31,
      "outputs": [
        {
          "output_type": "stream",
          "name": "stdout",
          "text": [
            "0 1 1 2 3 5 8 "
          ]
        }
      ]
    },
    {
      "cell_type": "code",
      "source": [
        "'''6. Write a generator function in Python that yields the powers of 2 up to a given exponent'''\n",
        "def powers_of_two(max_exp):\n",
        "    for i in range(max_exp + 1):\n",
        "        yield 2 ** i\n",
        "\n",
        "# Example\n",
        "for val in powers_of_two(4):\n",
        "    print(val, end=' ')\n"
      ],
      "metadata": {
        "colab": {
          "base_uri": "https://localhost:8080/"
        },
        "id": "WZ7n5O9d7rY4",
        "outputId": "596451ba-6182-4041-90fb-b76e3681108b"
      },
      "execution_count": 32,
      "outputs": [
        {
          "output_type": "stream",
          "name": "stdout",
          "text": [
            "1 2 4 8 16 "
          ]
        }
      ]
    },
    {
      "cell_type": "code",
      "source": [
        "'''7. Implement a generator function that reads a file line by line and yields each line as a string.'''\n",
        "def read_lines(filename):\n",
        "    with open(filename, 'r') as f:\n",
        "        for line in f:\n",
        "            yield line.strip()"
      ],
      "metadata": {
        "id": "o3WIQqdD72JF"
      },
      "execution_count": 33,
      "outputs": []
    },
    {
      "cell_type": "code",
      "source": [
        "'''8. Use a lambda function in Python to sort a list of tuples based on the second element of each tuple.'''\n",
        "tuples = [(1, 3), (4, 1), (2, 2)]\n",
        "sorted_tuples = sorted(tuples, key=lambda x: x[1])\n",
        "print(sorted_tuples)\n"
      ],
      "metadata": {
        "colab": {
          "base_uri": "https://localhost:8080/"
        },
        "id": "JWa1lqgq8GRM",
        "outputId": "1d013e96-b7b4-4e0c-bb05-5bd8b6bc2360"
      },
      "execution_count": 34,
      "outputs": [
        {
          "output_type": "stream",
          "name": "stdout",
          "text": [
            "[(4, 1), (2, 2), (1, 3)]\n"
          ]
        }
      ]
    },
    {
      "cell_type": "code",
      "source": [
        "'''9. Write a Python program that uses `map()` to convert a list of temperatures from Celsius to Fahrenheit.'''\n",
        "celsius = [0, 20, 37, 100]\n",
        "fahrenheit = list(map(lambda c: (c * 9/5) + 32, celsius))\n",
        "print(fahrenheit)  # Output: [32.0, 68.0, 98.6, 212.0]\n"
      ],
      "metadata": {
        "colab": {
          "base_uri": "https://localhost:8080/"
        },
        "id": "SBHN_Ex08PIj",
        "outputId": "f5f63022-4b01-47bc-9832-20927a35e6d7"
      },
      "execution_count": 35,
      "outputs": [
        {
          "output_type": "stream",
          "name": "stdout",
          "text": [
            "[32.0, 68.0, 98.6, 212.0]\n"
          ]
        }
      ]
    },
    {
      "cell_type": "code",
      "source": [
        "'''10. Create a Python program that uses `filter()` to remove all the vowels from a given string.'''\n",
        "def remove_vowels(s):\n",
        "    vowels = 'aeiouAEIOU'\n",
        "    return ''.join(filter(lambda ch: ch not in vowels, s))\n",
        "\n",
        "# Example\n",
        "print(remove_vowels(\"Beautiful Python\"))  # Output: Btfl Pythn\n"
      ],
      "metadata": {
        "colab": {
          "base_uri": "https://localhost:8080/"
        },
        "id": "q4LqOOxs8YCR",
        "outputId": "87783beb-f4d7-4c0b-8241-678f83b71282"
      },
      "execution_count": 36,
      "outputs": [
        {
          "output_type": "stream",
          "name": "stdout",
          "text": [
            "Btfl Pythn\n"
          ]
        }
      ]
    },
    {
      "cell_type": "code",
      "source": [
        "# 11\n",
        "orders = [\n",
        "    [34587, \"Learning Python, Mark Lutz\", 4, 40.95],\n",
        "    [98762, \"Programming Python, Mark Lutz\", 5, 56.80],\n",
        "    [77226, \"Head First Python, Paul Barry\", 3, 32.95],\n",
        "    [88112, \"Einführung in Python3, Bernd Klein\", 3, 24.99]\n",
        "]\n",
        "\n",
        "# Using lambda and map\n",
        "result = list(map(lambda order: (\n",
        "    order[0],\n",
        "    round(order[2] * order[3] + (10 if order[2] * order[3] < 100 else 0), 2)\n",
        "), orders))\n",
        "\n",
        "# Output the result\n",
        "print(result)\n"
      ],
      "metadata": {
        "colab": {
          "base_uri": "https://localhost:8080/"
        },
        "id": "LjRncUZM8eXb",
        "outputId": "cf60efa4-eb11-47b7-95f5-c663e89abab1"
      },
      "execution_count": 37,
      "outputs": [
        {
          "output_type": "stream",
          "name": "stdout",
          "text": [
            "[(34587, 163.8), (98762, 284.0), (77226, 108.85), (88112, 84.97)]\n"
          ]
        }
      ]
    },
    {
      "cell_type": "code",
      "source": [],
      "metadata": {
        "id": "vgLRgrO_9lcN"
      },
      "execution_count": null,
      "outputs": []
    }
  ]
}